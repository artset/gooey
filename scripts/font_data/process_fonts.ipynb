{
 "cells": [
  {
   "cell_type": "code",
   "execution_count": 20,
   "metadata": {},
   "outputs": [],
   "source": [
    "import io\n",
    "import json\n",
    "\n",
    "font_list = []\n",
    "with io.open('our_fonts.txt', encoding='latin-1') as myfile:\n",
    "    for i in myfile.readlines():\n",
    "        font_list.append(i.rstrip() )\n",
    "        \n",
    "with open('all_fonts.json', 'r') as fp:\n",
    "    data = json.load(fp)\n",
    "\n",
    "our_data = {}\n",
    "for font in data[\"items\"]:\n",
    "    if font[\"family\"] in font_list:\n",
    "        values = {}\n",
    "        values[\"type\"] = font[\"category\"]\n",
    "        \n",
    "        style = []\n",
    "        for s in font[\"variants\"]:\n",
    "            if s==\"regular\" or s==\"italic\":\n",
    "                style.append(s);\n",
    "            if s==\"700\":\n",
    "                style.append(\"bold\")\n",
    "            if s==\"700italic\":\n",
    "                style.append(\"bold italic\")\n",
    "        values[\"style\"] = style\n",
    "        our_data[font[\"family\"]] = values\n",
    "\n",
    "\n",
    "# verifies we got all our fonts in the list\n",
    "# for font in font_list:\n",
    "#     if font not in our_data:\n",
    "#         print(font)\n",
    "\n",
    "with open('font_data.json', 'wt') as out:\n",
    "    res = json.dump(our_data, out, sort_keys=False, indent=4, separators=(',', ': '))"
   ]
  },
  {
   "cell_type": "code",
   "execution_count": null,
   "metadata": {},
   "outputs": [],
   "source": []
  }
 ],
 "metadata": {
  "kernelspec": {
   "display_name": "Python 3",
   "language": "python",
   "name": "python3"
  },
  "language_info": {
   "codemirror_mode": {
    "name": "ipython",
    "version": 3
   },
   "file_extension": ".py",
   "mimetype": "text/x-python",
   "name": "python",
   "nbconvert_exporter": "python",
   "pygments_lexer": "ipython3",
   "version": "3.7.1"
  }
 },
 "nbformat": 4,
 "nbformat_minor": 2
}
