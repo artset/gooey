{
 "cells": [
  {
   "cell_type": "code",
   "execution_count": 19,
   "metadata": {},
   "outputs": [
    {
     "ename": "FileNotFoundError",
     "evalue": "[Errno 2] No such file or directory: 'fonts.json'",
     "output_type": "error",
     "traceback": [
      "\u001b[1;31m---------------------------------------------------------------------------\u001b[0m",
      "\u001b[1;31mFileNotFoundError\u001b[0m                         Traceback (most recent call last)",
      "\u001b[1;32m<ipython-input-19-c9e1b4854fa2>\u001b[0m in \u001b[0;36m<module>\u001b[1;34m\u001b[0m\n\u001b[0;32m      7\u001b[0m         \u001b[0mfont_list\u001b[0m\u001b[1;33m.\u001b[0m\u001b[0mappend\u001b[0m\u001b[1;33m(\u001b[0m\u001b[0mi\u001b[0m\u001b[1;33m.\u001b[0m\u001b[0mrstrip\u001b[0m\u001b[1;33m(\u001b[0m\u001b[1;33m)\u001b[0m \u001b[1;33m)\u001b[0m\u001b[1;33m\u001b[0m\u001b[1;33m\u001b[0m\u001b[0m\n\u001b[0;32m      8\u001b[0m \u001b[1;33m\u001b[0m\u001b[0m\n\u001b[1;32m----> 9\u001b[1;33m \u001b[1;32mwith\u001b[0m \u001b[0mopen\u001b[0m\u001b[1;33m(\u001b[0m\u001b[1;34m'fonts.json'\u001b[0m\u001b[1;33m,\u001b[0m \u001b[1;34m'r'\u001b[0m\u001b[1;33m)\u001b[0m \u001b[1;32mas\u001b[0m \u001b[0mfp\u001b[0m\u001b[1;33m:\u001b[0m\u001b[1;33m\u001b[0m\u001b[1;33m\u001b[0m\u001b[0m\n\u001b[0m\u001b[0;32m     10\u001b[0m     \u001b[0mdata\u001b[0m \u001b[1;33m=\u001b[0m \u001b[0mjson\u001b[0m\u001b[1;33m.\u001b[0m\u001b[0mload\u001b[0m\u001b[1;33m(\u001b[0m\u001b[0mfp\u001b[0m\u001b[1;33m)\u001b[0m\u001b[1;33m\u001b[0m\u001b[1;33m\u001b[0m\u001b[0m\n\u001b[0;32m     11\u001b[0m \u001b[1;33m\u001b[0m\u001b[0m\n",
      "\u001b[1;31mFileNotFoundError\u001b[0m: [Errno 2] No such file or directory: 'fonts.json'"
     ]
    }
   ],
   "source": [
    "import io\n",
    "import json\n",
    "\n",
    "font_list = []\n",
    "with io.open('our_fonts.txt', encoding='latin-1') as myfile:\n",
    "    for i in myfile.readlines():\n",
    "        font_list.append(i.rstrip() )\n",
    "        \n",
    "with open('all_fonts.json', 'r') as fp:\n",
    "    data = json.load(fp)\n",
    "\n",
    "our_data = {}\n",
    "for font in data[\"items\"]:\n",
    "    if font[\"family\"] in font_list:\n",
    "        values = {}\n",
    "        values[\"type\"] = font[\"category\"]\n",
    "        \n",
    "        style = []\n",
    "        for s in font[\"variants\"]:\n",
    "            if s==\"regular\" or s==\"italic\":\n",
    "                style.append(s);\n",
    "            if s==\"700\":\n",
    "                style.append(\"bold\")\n",
    "            if s==\"700italic\":\n",
    "                style.append(\"bold italic\")\n",
    "        values[\"style\"] = style\n",
    "        our_data[font[\"family\"]] = values\n",
    "\n",
    "\n",
    "# verifies we got all our fonts in the list\n",
    "# for font in font_list:\n",
    "#     if font not in our_data:\n",
    "#         print(font)\n",
    "\n",
    "with open('font_data.json', 'wt') as out:\n",
    "    res = json.dump(our_data, out, sort_keys=False, indent=4, separators=(',', ': '))"
   ]
  },
  {
   "cell_type": "code",
   "execution_count": null,
   "metadata": {},
   "outputs": [],
   "source": []
  }
 ],
 "metadata": {
  "kernelspec": {
   "display_name": "Python 3",
   "language": "python",
   "name": "python3"
  },
  "language_info": {
   "codemirror_mode": {
    "name": "ipython",
    "version": 3
   },
   "file_extension": ".py",
   "mimetype": "text/x-python",
   "name": "python",
   "nbconvert_exporter": "python",
   "pygments_lexer": "ipython3",
   "version": "3.7.1"
  }
 },
 "nbformat": 4,
 "nbformat_minor": 2
}
