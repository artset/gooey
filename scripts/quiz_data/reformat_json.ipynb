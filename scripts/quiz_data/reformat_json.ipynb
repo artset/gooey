{
 "cells": [
  {
   "cell_type": "code",
   "execution_count": 2,
   "metadata": {},
   "outputs": [],
   "source": [
    "# Reformatting the JSONS because I did it stupidly.\n",
    "\n",
    "import json\n",
    "\n",
    "\n",
    "with open('color_dicts/neutral.json') as f:\n",
    "  colors = json.load(f)\n",
    "\n",
    "list_of_colors = []\n",
    "\n",
    "for line in colors:\n",
    "    color = {\n",
    "        'name': line, \n",
    "        'rgb': [colors[line]['rgb'][0], colors[line]['rgb'][1], colors[line]['rgb'][2]],\n",
    "        'hex': colors[line]['hex']\n",
    "    }\n",
    "    \n",
    "    list_of_colors.append(color)\n",
    "    list_of_colors.reverse()\n",
    "    \n",
    "with open('nneutral.json', 'wt') as out:\n",
    "    res = json.dump(list_of_colors, out, sort_keys=False, indent=4, separators=(',', ': '))"
   ]
  },
  {
   "cell_type": "code",
   "execution_count": null,
   "metadata": {},
   "outputs": [],
   "source": []
  }
 ],
 "metadata": {
  "kernelspec": {
   "display_name": "Python 3",
   "language": "python",
   "name": "python3"
  },
  "language_info": {
   "codemirror_mode": {
    "name": "ipython",
    "version": 3
   },
   "file_extension": ".py",
   "mimetype": "text/x-python",
   "name": "python",
   "nbconvert_exporter": "python",
   "pygments_lexer": "ipython3",
   "version": "3.7.1"
  }
 },
 "nbformat": 4,
 "nbformat_minor": 2
}
